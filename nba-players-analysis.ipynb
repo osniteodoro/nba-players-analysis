{
 "cells": [
  {
   "cell_type": "code",
   "execution_count": 1,
   "metadata": {
    "_cell_guid": "b1076dfc-b9ad-4769-8c92-a6c4dae69d19",
    "_uuid": "8f2839f25d086af736a60e9eeb907d3b93b6e0e5",
    "execution": {
     "iopub.execute_input": "2024-02-17T15:26:18.947322Z",
     "iopub.status.busy": "2024-02-17T15:26:18.946947Z",
     "iopub.status.idle": "2024-02-17T15:26:18.964529Z",
     "shell.execute_reply": "2024-02-17T15:26:18.963446Z",
     "shell.execute_reply.started": "2024-02-17T15:26:18.947293Z"
    }
   },
   "outputs": [],
   "source": [
    "import numpy as np # linear algebra\n",
    "import pandas as pd # data processing, CSV file I/O (e.g. pd.read_csv)\n",
    "\n",
    "# Input data files are available in the read-only \"../input/\" directory\n",
    "# For example, running this (by clicking run or pressing Shift+Enter) will list all files under the input directory\n",
    "\n",
    "import os\n",
    "for dirname, _, filenames in os.walk('/kaggle/input'):\n",
    "    for filename in filenames:\n",
    "        print(os.path.join(dirname, filename))\n",
    "\n"
   ]
  },
  {
   "cell_type": "markdown",
   "metadata": {},
   "source": [
    "# Overview\n",
    "**These are the questions I will answer through this review.**\n",
    "\n",
    "1) The 10 highest scorers of the decade of the season\n",
    "\n",
    "2) Top 10 scorers of all seasons with more than 35 points per game.\n",
    "\n",
    "3) 1st year statistics of each player.\n",
    "\n",
    "4) 2nd year stats for each player.\n",
    "\n",
    "5) 5 years statistics of each player.\n",
    "\n",
    "6) Curiosities / Relevant data\n",
    "\n",
    "\n",
    "# Visão geral\n",
    "**Estas são as perguntas que vou responder através desta análise.**\n",
    "\n",
    "1) Os 10 maiores pontuadores por década de temporada\n",
    "\n",
    "2) Os 10 maiores pontuadores de todas temporadas com mais de 35 pontos por partida.\n",
    "\n",
    "3) Estatísticas do 1º ano de cada jogador.\n",
    "\n",
    "4) Estatísticas do 2º ano de cada jogador.\n",
    "\n",
    "5) Estatísticas dos 5 anos de cada jogador.\n",
    "\n",
    "6) Curiosidades / Dados relevantes\n",
    "\n"
   ]
  },
  {
   "cell_type": "code",
   "execution_count": 2,
   "metadata": {
    "execution": {
     "iopub.execute_input": "2024-02-17T15:26:23.786371Z",
     "iopub.status.busy": "2024-02-17T15:26:23.785950Z",
     "iopub.status.idle": "2024-02-17T15:26:24.151858Z",
     "shell.execute_reply": "2024-02-17T15:26:24.150836Z",
     "shell.execute_reply.started": "2024-02-17T15:26:23.786336Z"
    }
   },
   "outputs": [],
   "source": [
    "player_game = pd.read_csv(\"input/nba-aba-baa-stats/Player Per Game.csv\")\n",
    "player_by_play = pd.read_csv(\"input/nba-aba-baa-stats/Player Play By Play.csv\")\n",
    "allstar = pd.read_csv(\"input/allstar-games-stats/allstar_games_stats.csv\")\n"
   ]
  },
  {
   "cell_type": "code",
   "execution_count": 3,
   "metadata": {
    "execution": {
     "iopub.execute_input": "2024-02-17T15:26:27.583266Z",
     "iopub.status.busy": "2024-02-17T15:26:27.582874Z",
     "iopub.status.idle": "2024-02-17T15:26:27.600678Z",
     "shell.execute_reply": "2024-02-17T15:26:27.599554Z",
     "shell.execute_reply.started": "2024-02-17T15:26:27.583237Z"
    }
   },
   "outputs": [
    {
     "data": {
      "text/plain": [
       "seas_id            int64\n",
       "season             int64\n",
       "player_id          int64\n",
       "player            object\n",
       "birth_year       float64\n",
       "pos               object\n",
       "age              float64\n",
       "experience         int64\n",
       "lg                object\n",
       "tm                object\n",
       "g                  int64\n",
       "gs               float64\n",
       "mp_per_game      float64\n",
       "fg_per_game      float64\n",
       "fga_per_game     float64\n",
       "fg_percent       float64\n",
       "x3p_per_game     float64\n",
       "x3pa_per_game    float64\n",
       "x3p_percent      float64\n",
       "x2p_per_game     float64\n",
       "x2pa_per_game    float64\n",
       "x2p_percent      float64\n",
       "e_fg_percent     float64\n",
       "ft_per_game      float64\n",
       "fta_per_game     float64\n",
       "ft_percent       float64\n",
       "orb_per_game     float64\n",
       "drb_per_game     float64\n",
       "trb_per_game     float64\n",
       "ast_per_game     float64\n",
       "stl_per_game     float64\n",
       "blk_per_game     float64\n",
       "tov_per_game     float64\n",
       "pf_per_game      float64\n",
       "pts_per_game     float64\n",
       "dtype: object"
      ]
     },
     "execution_count": 3,
     "metadata": {},
     "output_type": "execute_result"
    }
   ],
   "source": [
    "player_game.dtypes"
   ]
  },
  {
   "cell_type": "code",
   "execution_count": 4,
   "metadata": {
    "execution": {
     "iopub.execute_input": "2024-02-17T15:26:30.995762Z",
     "iopub.status.busy": "2024-02-17T15:26:30.994570Z",
     "iopub.status.idle": "2024-02-17T15:26:31.005368Z",
     "shell.execute_reply": "2024-02-17T15:26:31.004193Z",
     "shell.execute_reply.started": "2024-02-17T15:26:30.995698Z"
    },
    "scrolled": true
   },
   "outputs": [
    {
     "data": {
      "text/plain": [
       "seas_id                               int64\n",
       "season                                int64\n",
       "player_id                             int64\n",
       "player                               object\n",
       "birth_year                          float64\n",
       "pos                                  object\n",
       "age                                   int64\n",
       "experience                            int64\n",
       "lg                                   object\n",
       "tm                                   object\n",
       "g                                     int64\n",
       "mp                                    int64\n",
       "pg_percent                          float64\n",
       "sg_percent                          float64\n",
       "sf_percent                          float64\n",
       "pf_percent                          float64\n",
       "c_percent                           float64\n",
       "on_court_plus_minus_per_100_poss    float64\n",
       "net_plus_minus_per_100_poss         float64\n",
       "bad_pass_turnover                     int64\n",
       "lost_ball_turnover                    int64\n",
       "shooting_foul_committed               int64\n",
       "offensive_foul_committed              int64\n",
       "shooting_foul_drawn                   int64\n",
       "offensive_foul_drawn                float64\n",
       "points_generated_by_assists           int64\n",
       "and1                                  int64\n",
       "fga_blocked                           int64\n",
       "dtype: object"
      ]
     },
     "execution_count": 4,
     "metadata": {},
     "output_type": "execute_result"
    }
   ],
   "source": [
    "player_by_play.dtypes"
   ]
  },
  {
   "cell_type": "markdown",
   "metadata": {},
   "source": [
    "Retornar o primeiro ano de cada jogador"
   ]
  },
  {
   "cell_type": "code",
   "execution_count": 5,
   "metadata": {},
   "outputs": [
    {
     "data": {
      "text/html": [
       "<div>\n",
       "<style scoped>\n",
       "    .dataframe tbody tr th:only-of-type {\n",
       "        vertical-align: middle;\n",
       "    }\n",
       "\n",
       "    .dataframe tbody tr th {\n",
       "        vertical-align: top;\n",
       "    }\n",
       "\n",
       "    .dataframe thead th {\n",
       "        text-align: right;\n",
       "    }\n",
       "</style>\n",
       "<table border=\"1\" class=\"dataframe\">\n",
       "  <thead>\n",
       "    <tr style=\"text-align: right;\">\n",
       "      <th></th>\n",
       "      <th>seas_id</th>\n",
       "      <th>season</th>\n",
       "      <th>player_id</th>\n",
       "      <th>player</th>\n",
       "      <th>birth_year</th>\n",
       "      <th>pos</th>\n",
       "      <th>age</th>\n",
       "      <th>experience</th>\n",
       "      <th>lg</th>\n",
       "      <th>tm</th>\n",
       "      <th>...</th>\n",
       "      <th>ft_percent</th>\n",
       "      <th>orb_per_game</th>\n",
       "      <th>drb_per_game</th>\n",
       "      <th>trb_per_game</th>\n",
       "      <th>ast_per_game</th>\n",
       "      <th>stl_per_game</th>\n",
       "      <th>blk_per_game</th>\n",
       "      <th>tov_per_game</th>\n",
       "      <th>pf_per_game</th>\n",
       "      <th>pts_per_game</th>\n",
       "    </tr>\n",
       "  </thead>\n",
       "  <tbody>\n",
       "    <tr>\n",
       "      <th>15809</th>\n",
       "      <td>15419</td>\n",
       "      <td>1997</td>\n",
       "      <td>3000</td>\n",
       "      <td>Kobe Bryant</td>\n",
       "      <td>NaN</td>\n",
       "      <td>SF</td>\n",
       "      <td>18.0</td>\n",
       "      <td>1</td>\n",
       "      <td>NBA</td>\n",
       "      <td>LAL</td>\n",
       "      <td>...</td>\n",
       "      <td>0.819</td>\n",
       "      <td>0.7</td>\n",
       "      <td>1.2</td>\n",
       "      <td>1.9</td>\n",
       "      <td>1.3</td>\n",
       "      <td>0.7</td>\n",
       "      <td>0.3</td>\n",
       "      <td>1.6</td>\n",
       "      <td>1.4</td>\n",
       "      <td>7.6</td>\n",
       "    </tr>\n",
       "    <tr>\n",
       "      <th>21195</th>\n",
       "      <td>10057</td>\n",
       "      <td>1985</td>\n",
       "      <td>2193</td>\n",
       "      <td>Michael Jordan</td>\n",
       "      <td>NaN</td>\n",
       "      <td>SG</td>\n",
       "      <td>21.0</td>\n",
       "      <td>1</td>\n",
       "      <td>NBA</td>\n",
       "      <td>CHI</td>\n",
       "      <td>...</td>\n",
       "      <td>0.845</td>\n",
       "      <td>2.0</td>\n",
       "      <td>4.5</td>\n",
       "      <td>6.5</td>\n",
       "      <td>5.9</td>\n",
       "      <td>2.4</td>\n",
       "      <td>0.8</td>\n",
       "      <td>3.5</td>\n",
       "      <td>3.5</td>\n",
       "      <td>28.2</td>\n",
       "    </tr>\n",
       "  </tbody>\n",
       "</table>\n",
       "<p>2 rows × 35 columns</p>\n",
       "</div>"
      ],
      "text/plain": [
       "       seas_id  season  player_id          player  birth_year pos   age  \\\n",
       "15809    15419    1997       3000     Kobe Bryant         NaN  SF  18.0   \n",
       "21195    10057    1985       2193  Michael Jordan         NaN  SG  21.0   \n",
       "\n",
       "       experience   lg   tm  ...  ft_percent  orb_per_game  drb_per_game  \\\n",
       "15809           1  NBA  LAL  ...       0.819           0.7           1.2   \n",
       "21195           1  NBA  CHI  ...       0.845           2.0           4.5   \n",
       "\n",
       "       trb_per_game  ast_per_game  stl_per_game  blk_per_game  tov_per_game  \\\n",
       "15809           1.9           1.3           0.7           0.3           1.6   \n",
       "21195           6.5           5.9           2.4           0.8           3.5   \n",
       "\n",
       "       pf_per_game  pts_per_game  \n",
       "15809          1.4           7.6  \n",
       "21195          3.5          28.2  \n",
       "\n",
       "[2 rows x 35 columns]"
      ]
     },
     "execution_count": 5,
     "metadata": {},
     "output_type": "execute_result"
    }
   ],
   "source": [
    "#player_game.query(\"player =  'players' and experience == 2\")\n",
    "player_game.query('player in [\"Michael Jordan\", \"Kobe Bryant\"] and experience == 1')\n",
    "\n",
    "\n",
    "#print(df.query('state in [\"NY\", \"TX\"]'))\n",
    "#'state == \"CA\"'\n"
   ]
  },
  {
   "cell_type": "code",
   "execution_count": 6,
   "metadata": {
    "scrolled": true
   },
   "outputs": [
    {
     "data": {
      "text/html": [
       "<div>\n",
       "<style scoped>\n",
       "    .dataframe tbody tr th:only-of-type {\n",
       "        vertical-align: middle;\n",
       "    }\n",
       "\n",
       "    .dataframe tbody tr th {\n",
       "        vertical-align: top;\n",
       "    }\n",
       "\n",
       "    .dataframe thead th {\n",
       "        text-align: right;\n",
       "    }\n",
       "</style>\n",
       "<table border=\"1\" class=\"dataframe\">\n",
       "  <thead>\n",
       "    <tr style=\"text-align: right;\">\n",
       "      <th></th>\n",
       "      <th>Season</th>\n",
       "      <th>Age</th>\n",
       "      <th>Tm</th>\n",
       "      <th>Lg</th>\n",
       "      <th>Pos</th>\n",
       "      <th>G</th>\n",
       "      <th>GS</th>\n",
       "      <th>MP</th>\n",
       "      <th>FG</th>\n",
       "      <th>FGA</th>\n",
       "      <th>...</th>\n",
       "      <th>FT%</th>\n",
       "      <th>ORB</th>\n",
       "      <th>TRB</th>\n",
       "      <th>AST</th>\n",
       "      <th>STL</th>\n",
       "      <th>BLK</th>\n",
       "      <th>TOV</th>\n",
       "      <th>PF</th>\n",
       "      <th>PTS</th>\n",
       "      <th>Player</th>\n",
       "    </tr>\n",
       "  </thead>\n",
       "  <tbody>\n",
       "    <tr>\n",
       "      <th>0</th>\n",
       "      <td>2004-05</td>\n",
       "      <td>20</td>\n",
       "      <td>CLE</td>\n",
       "      <td>NBA</td>\n",
       "      <td>SF</td>\n",
       "      <td>1.0</td>\n",
       "      <td>1.0</td>\n",
       "      <td>31:25</td>\n",
       "      <td>6.0</td>\n",
       "      <td>13.0</td>\n",
       "      <td>...</td>\n",
       "      <td>0.0</td>\n",
       "      <td>1.0</td>\n",
       "      <td>8.0</td>\n",
       "      <td>6.0</td>\n",
       "      <td>2.0</td>\n",
       "      <td>0.0</td>\n",
       "      <td>3.0</td>\n",
       "      <td>0.0</td>\n",
       "      <td>13.0</td>\n",
       "      <td>Lebron James</td>\n",
       "    </tr>\n",
       "  </tbody>\n",
       "</table>\n",
       "<p>1 rows × 26 columns</p>\n",
       "</div>"
      ],
      "text/plain": [
       "    Season  Age   Tm   Lg Pos    G   GS     MP   FG   FGA  ...  FT%  ORB  TRB  \\\n",
       "0  2004-05   20  CLE  NBA  SF  1.0  1.0  31:25  6.0  13.0  ...  0.0  1.0  8.0   \n",
       "\n",
       "   AST  STL  BLK  TOV   PF   PTS        Player  \n",
       "0  6.0  2.0  0.0  3.0  0.0  13.0  Lebron James  \n",
       "\n",
       "[1 rows x 26 columns]"
      ]
     },
     "execution_count": 6,
     "metadata": {},
     "output_type": "execute_result"
    }
   ],
   "source": [
    "allstar.query(\"Player == 'Lebron James' and Age == 20\")"
   ]
  },
  {
   "cell_type": "code",
   "execution_count": 7,
   "metadata": {},
   "outputs": [
    {
     "name": "stdout",
     "output_type": "stream",
     "text": [
      "                 player   age  season  experience  pts_per_game\n",
      "29044  Wilt Chamberlain  23.0    1960           1          37.6\n",
      "28806      Walt Bellamy  22.0    1962           1          31.6\n",
      "28888   Oscar Robertson  22.0    1961           1          30.5\n",
      "27170   Spencer Haywood  20.0    1970           1          30.0\n",
      "26472         Dan Issel  22.0    1971           1          29.9\n",
      "...                 ...   ...     ...         ...           ...\n",
      "9873       Kevin Durant  19.0    2008           1          20.3\n",
      "4491        Joel Embiid  22.0    2017           1          20.2\n",
      "21719     Clark Kellogg  21.0    1983           1          20.1\n",
      "14103       Elton Brand  20.0    2000           1          20.1\n",
      "8959       Tyreke Evans  20.0    2010           1          20.1\n",
      "\n",
      "[70 rows x 5 columns]\n"
     ]
    }
   ],
   "source": [
    "#Retorna todos jogadores no primeira temporada\n",
    "jogadores_primeiro_ano = player_game.query(\"experience == 1 and pts_per_game > 20\")\n",
    "\n",
    "\n",
    "maiores_pontuadores = jogadores_primeiro_ano.sort_values(by=['pts_per_game'], ascending=False)\n",
    "print (maiores_pontuadores[['player','age','season', 'experience','pts_per_game']])\n",
    "\n",
    "#print(df[['name', 'score']])\n",
    "#['player','age','season', 'experience','pts_per_game']\n",
    "       "
   ]
  },
  {
   "cell_type": "markdown",
   "metadata": {},
   "source": [
    "# Retornar a primeira e a última  temporada do dataset"
   ]
  },
  {
   "cell_type": "code",
   "execution_count": 8,
   "metadata": {},
   "outputs": [
    {
     "name": "stdout",
     "output_type": "stream",
     "text": [
      "A primeira temporada é:  1947 e a última temporada é: 2023\n"
     ]
    }
   ],
   "source": [
    "primeira_temporada = player_game['season'].min()\n",
    "ultima_temporada = player_game['season'].max()\n",
    "   \n",
    "\n",
    "print('A primeira temporada é: ',primeira_temporada, 'e a última temporada é:' ,ultima_temporada)\n"
   ]
  },
  {
   "cell_type": "markdown",
   "metadata": {},
   "source": [
    "# Definir os marcos das temporadas por década para utilizar na próxima análise\n"
   ]
  },
  {
   "cell_type": "code",
   "execution_count": 9,
   "metadata": {},
   "outputs": [],
   "source": [
    "temp_40 = 1947\n",
    "temp_50 = 1950\n",
    "temp_60 = 1960\n",
    "temp_70 = 1970\n",
    "temp_80 = 1980\n",
    "temp_90 = 1990 \n",
    "temp_2000 = 2000\n",
    "temp_2010 = 2010\n",
    "temp_2020 = 2020\n",
    "temp_ultima = ultima_temporada"
   ]
  },
  {
   "cell_type": "markdown",
   "metadata": {},
   "source": [
    "#  Verificar a média de pontos por jogo  dos 10 maiores pontuadores para utilizar na próxima análise"
   ]
  },
  {
   "cell_type": "markdown",
   "metadata": {},
   "source": [
    "# Década de 40"
   ]
  },
  {
   "cell_type": "code",
   "execution_count": 10,
   "metadata": {},
   "outputs": [
    {
     "name": "stdout",
     "output_type": "stream",
     "text": [
      "A média da década 1947 foi de:  23.05\n",
      "Os maiores pontuadores da década  1947\n",
      "              player pos   age  season  experience   tm  pts_per_game\n",
      "30661   George Mikan   C  24.0    1949           1  MNL          28.3\n",
      "30379   George Mikan   C  25.0    1950           2  MNL          27.4\n",
      "30708      Joe Fulks  PF  27.0    1949           3  PHW          26.0\n",
      "30246     Alex Groza   C  23.0    1950           1  INO          23.4\n",
      "31049      Joe Fulks  PF  25.0    1947           1  PHW          23.2\n",
      "30878      Joe Fulks  PF  26.0    1948           2  PHW          22.1\n",
      "30900  Max Zaslofsky  SG  22.0    1948           2  CHS          21.0\n",
      "30742  Max Zaslofsky  SG  23.0    1949           3  CHS          20.6\n",
      "30841    Ed Sadowski   C  30.0    1948           2  BOS          19.4\n",
      "30997    Ed Sadowski   C  29.0    1947           1  TRH          19.1\n"
     ]
    }
   ],
   "source": [
    "periodo_inicial = temp_40\n",
    "periodo_final = temp_50\n",
    "\n",
    "pontuadores = player_game[(player_game['season'] >= periodo_inicial) & (player_game['season'] <= periodo_final)]\n",
    "decada = pontuadores.nlargest(10, 'pts_per_game')[['player','pos','age', 'season', 'experience','tm','pts_per_game']]\n",
    "media_decada = decada[\"pts_per_game\"].mean()\n",
    "\n",
    "print('A média da década', periodo_inicial , 'foi de: ', media_decada.round(2))\n",
    "print('Os maiores pontuadores da década ', periodo_inicial )\n",
    "print(decada)"
   ]
  },
  {
   "cell_type": "markdown",
   "metadata": {},
   "source": [
    "# Década de 50"
   ]
  },
  {
   "cell_type": "code",
   "execution_count": 11,
   "metadata": {},
   "outputs": [
    {
     "name": "stdout",
     "output_type": "stream",
     "text": [
      "A média da década 1950 foi de:  28.95\n",
      "Os maiores pontuadores da década  1950\n",
      "                 player pos   age  season  experience   tm  pts_per_game\n",
      "29044  Wilt Chamberlain   C  23.0    1960           1  PHW          37.6\n",
      "28991       Jack Twyman  SF  25.0    1960           5  CIN          31.2\n",
      "28971      Elgin Baylor  SF  25.0    1960           2  MNL          29.6\n",
      "29057        Bob Pettit  PF  26.0    1959           5  STL          29.2\n",
      "30152      George Mikan   C  26.0    1951           3  MNL          28.4\n",
      "29205    George Yardley  SF  29.0    1958           5  DET          27.8\n",
      "30379      George Mikan   C  25.0    1950           2  MNL          27.4\n",
      "29124       Paul Arizin  SF  30.0    1959           7  PHW          26.4\n",
      "28939        Bob Pettit  PF  27.0    1960           6  STL          26.1\n",
      "29104       Jack Twyman  SF  24.0    1959           4  CIN          25.8\n"
     ]
    }
   ],
   "source": [
    "periodo_inicial = temp_50\n",
    "periodo_final = temp_60\n",
    "\n",
    "pontuadores = player_game[(player_game['season'] >= periodo_inicial) & (player_game['season'] <= periodo_final)]\n",
    "decada = pontuadores.nlargest(10, 'pts_per_game')[['player','pos','age', 'season', 'experience','tm','pts_per_game']]\n",
    "media_decada = decada[\"pts_per_game\"].mean()\n",
    "\n",
    "print('A média da década', periodo_inicial , 'foi de: ', media_decada.round(2))\n",
    "print('Os maiores pontuadores da década ', periodo_inicial )\n",
    "print(decada)"
   ]
  },
  {
   "cell_type": "markdown",
   "metadata": {},
   "source": [
    "# Década de 60"
   ]
  },
  {
   "cell_type": "code",
   "execution_count": 12,
   "metadata": {},
   "outputs": [
    {
     "name": "stdout",
     "output_type": "stream",
     "text": [
      "A média da década 1960 foi de:  39.04\n",
      "Os maiores pontuadores da década  1960\n",
      "                 player pos   age  season  experience   tm  pts_per_game\n",
      "28813  Wilt Chamberlain   C  25.0    1962           3  PHW          50.4\n",
      "28679  Wilt Chamberlain   C  26.0    1963           4  SFW          44.8\n",
      "28413  Wilt Chamberlain   C  28.0    1965           6  SFW          38.9\n",
      "28921  Wilt Chamberlain   C  24.0    1961           2  PHW          38.4\n",
      "28734      Elgin Baylor  SF  27.0    1962           4  LAL          38.3\n",
      "29044  Wilt Chamberlain   C  23.0    1960           1  PHW          37.6\n",
      "28549  Wilt Chamberlain   C  27.0    1964           5  SFW          36.9\n",
      "28124        Rick Barry  SF  22.0    1967           2  SFW          35.6\n",
      "28850      Elgin Baylor  SF  26.0    1961           3  LAL          34.8\n",
      "28412  Wilt Chamberlain   C  28.0    1965           6  TOT          34.7\n"
     ]
    }
   ],
   "source": [
    "periodo_inicial = temp_60\n",
    "periodo_final = temp_70\n",
    "\n",
    "pontuadores = player_game[(player_game['season'] >= periodo_inicial) & (player_game['season'] <= periodo_final)]\n",
    "decada = pontuadores.nlargest(10, 'pts_per_game')[['player','pos','age', 'season', 'experience','tm','pts_per_game']]\n",
    "media_decada = decada[\"pts_per_game\"].mean()\n",
    "\n",
    "print('A média da década', periodo_inicial , 'foi de: ', media_decada.round(2))\n",
    "print('Os maiores pontuadores da década ', periodo_inicial )\n",
    "print(decada)"
   ]
  },
  {
   "cell_type": "markdown",
   "metadata": {},
   "source": [
    "# Década de 70"
   ]
  },
  {
   "cell_type": "code",
   "execution_count": 13,
   "metadata": {},
   "outputs": [
    {
     "name": "stdout",
     "output_type": "stream",
     "text": [
      "A média da década 1970 foi de:  32.84\n",
      "Os maiores pontuadores da década  1970\n",
      "                    player pos   age  season  experience   tm  pts_per_game\n",
      "26198  Kareem Abdul-Jabbar   C  24.0    1972           3  MIL          34.8\n",
      "25981        Charlie Scott  SG  23.0    1972           2  VIR          34.6\n",
      "24690           Bob McAdoo   C  23.0    1975           3  BUF          34.5\n",
      "25876       Tiny Archibald  PG  24.0    1973           3  KCO          34.0\n",
      "22902        George Gervin  SG  27.0    1980           8  SAS          33.1\n",
      "25745        Julius Erving  SF  22.0    1973           2  VIR          31.9\n",
      "26643  Kareem Abdul-Jabbar   C  23.0    1971           2  MIL          31.7\n",
      "26297           Rick Barry  SF  27.0    1972           6  NYA          31.5\n",
      "27032           Jerry West  PG  31.0    1970          10  LAL          31.2\n",
      "24143        Pete Maravich  SG  29.0    1977           7  NOJ          31.1\n"
     ]
    }
   ],
   "source": [
    "periodo_inicial = temp_70\n",
    "periodo_final = temp_80\n",
    "\n",
    "pontuadores = player_game[(player_game['season'] >= periodo_inicial) & (player_game['season'] <= periodo_final)]\n",
    "decada = pontuadores.nlargest(10, 'pts_per_game')[['player','pos','age', 'season', 'experience','tm','pts_per_game']]\n",
    "media_decada = decada[\"pts_per_game\"].mean()\n",
    "\n",
    "print('A média da década', periodo_inicial , 'foi de: ', media_decada.round(2))\n",
    "print('Os maiores pontuadores da década ', periodo_inicial )\n",
    "print(decada)"
   ]
  },
  {
   "cell_type": "markdown",
   "metadata": {},
   "source": [
    "# Década de 80"
   ]
  },
  {
   "cell_type": "code",
   "execution_count": 14,
   "metadata": {
    "scrolled": true
   },
   "outputs": [
    {
     "name": "stdout",
     "output_type": "stream",
     "text": [
      "A média da década 1980 foi de:  32.93\n",
      "Os maiores pontuadores da década  1980\n",
      "                  player pos   age  season  experience   tm  pts_per_game\n",
      "20453     Michael Jordan  SG  23.0    1987           3  CHI          37.1\n",
      "20044     Michael Jordan  SG  24.0    1988           4  CHI          35.0\n",
      "19154     Michael Jordan  SG  26.0    1990           6  CHI          33.6\n",
      "22902      George Gervin  SG  27.0    1980           8  SAS          33.1\n",
      "20970       Bernard King  SF  28.0    1985           8  NYK          32.9\n",
      "19619     Michael Jordan  SG  25.0    1989           5  CHI          32.5\n",
      "22170      George Gervin  SG  29.0    1982          10  SAS          32.3\n",
      "22319       Moses Malone   C  26.0    1982           8  HOU          31.1\n",
      "19090        Karl Malone  PF  26.0    1990           5  UTA          31.0\n",
      "19891  Dominique Wilkins  SF  28.0    1988           6  ATL          30.7\n"
     ]
    }
   ],
   "source": [
    "periodo_inicial = temp_80\n",
    "periodo_final = temp_90\n",
    "\n",
    "pontuadores = player_game[(player_game['season'] >= periodo_inicial) & (player_game['season'] <= periodo_final)]\n",
    "decada = pontuadores.nlargest(10, 'pts_per_game')[['player','pos','age', 'season', 'experience','tm','pts_per_game']]\n",
    "media_decada = decada[\"pts_per_game\"].mean()\n",
    "\n",
    "print('A média da década', periodo_inicial , 'foi de: ', media_decada.round(2))\n",
    "print('Os maiores pontuadores da década ', periodo_inicial )\n",
    "print(decada)"
   ]
  },
  {
   "cell_type": "markdown",
   "metadata": {},
   "source": [
    "# Década de 90"
   ]
  },
  {
   "cell_type": "code",
   "execution_count": 15,
   "metadata": {},
   "outputs": [
    {
     "name": "stdout",
     "output_type": "stream",
     "text": [
      "A média da década 1990 foi de:  30.82\n",
      "Os maiores pontuadores da década  1990\n",
      "                  player pos   age  season  experience   tm  pts_per_game\n",
      "19154     Michael Jordan  SG  26.0    1990           6  CHI          33.6\n",
      "17828     Michael Jordan  SG  29.0    1993           9  CHI          32.6\n",
      "18718     Michael Jordan  SG  27.0    1991           7  CHI          31.5\n",
      "19090        Karl Malone  PF  26.0    1990           5  UTA          31.0\n",
      "16422     Michael Jordan  SG  32.0    1996          11  CHI          30.4\n",
      "18266     Michael Jordan  SG  28.0    1992           8  CHI          30.1\n",
      "17647  Dominique Wilkins  SF  33.0    1993          11  ATL          29.9\n",
      "17156     David Robinson   C  28.0    1994           5  SAS          29.8\n",
      "14354   Shaquille O'Neal   C  27.0    2000           8  LAL          29.7\n",
      "15874     Michael Jordan  SG  33.0    1997          12  CHI          29.6\n"
     ]
    }
   ],
   "source": [
    "periodo_inicial = temp_90\n",
    "periodo_final = temp_2000\n",
    "\n",
    "pontuadores = player_game[(player_game['season'] >= periodo_inicial) & (player_game['season'] <= periodo_final)]\n",
    "decada = pontuadores.nlargest(10, 'pts_per_game')[['player','pos','age', 'season', 'experience','tm','pts_per_game']]\n",
    "media_decada = decada[\"pts_per_game\"].mean()\n",
    "\n",
    "print('A média da década', periodo_inicial , 'foi de: ', media_decada.round(2))\n",
    "print('Os maiores pontuadores da década ', periodo_inicial )\n",
    "print(decada)"
   ]
  },
  {
   "cell_type": "markdown",
   "metadata": {},
   "source": [
    "# Década de 2000"
   ]
  },
  {
   "cell_type": "code",
   "execution_count": 16,
   "metadata": {
    "scrolled": true
   },
   "outputs": [
    {
     "name": "stdout",
     "output_type": "stream",
     "text": [
      "A média da década 2000 foi de:  31.81\n",
      "Os maiores pontuadores da década  2000\n",
      "              player pos   age  season  experience   tm  pts_per_game\n",
      "10973    Kobe Bryant  SG  27.0    2006          10  LAL          35.4\n",
      "10686  Allen Iverson  PG  30.0    2006          10  PHI          33.0\n",
      "12858  Tracy McGrady  SG  23.0    2003           6  ORL          32.1\n",
      "10444    Kobe Bryant  SG  28.0    2007          11  LAL          31.6\n",
      "10984   LeBron James  SF  21.0    2006           3  CLE          31.4\n",
      "12897  Allen Iverson  SG  26.0    2002           6  PHI          31.4\n",
      "10171  Allen Iverson  PG  31.0    2007          11  PHI          31.2\n",
      "13399  Allen Iverson  SG  25.0    2001           5  PHI          31.1\n",
      "11248  Allen Iverson  PG  29.0    2005           9  PHI          30.7\n",
      "9166     Dwyane Wade  SG  27.0    2009           6  MIA          30.2\n"
     ]
    }
   ],
   "source": [
    "periodo_inicial = temp_2000\n",
    "periodo_final = temp_2010\n",
    "\n",
    "pontuadores = player_game[(player_game['season'] >= periodo_inicial) & (player_game['season'] <= periodo_final)]\n",
    "decada = pontuadores.nlargest(10, 'pts_per_game')[['player','pos','age', 'season', 'experience','tm','pts_per_game']]\n",
    "media_decada = decada[\"pts_per_game\"].mean()\n",
    "\n",
    "print('A média da década', periodo_inicial , 'foi de: ', media_decada.round(2))\n",
    "print('Os maiores pontuadores da década ', periodo_inicial )\n",
    "print(decada)"
   ]
  },
  {
   "cell_type": "markdown",
   "metadata": {},
   "source": [
    "# Década de 2010"
   ]
  },
  {
   "cell_type": "code",
   "execution_count": 17,
   "metadata": {},
   "outputs": [
    {
     "name": "stdout",
     "output_type": "stream",
     "text": [
      "A média da década 2010 foi de:  31.48\n",
      "Os maiores pontuadores da década  2010\n",
      "                 player pos   age  season  experience   tm  pts_per_game\n",
      "3135       James Harden  PG  29.0    2019          10  HOU          36.1\n",
      "2464       James Harden  SG  30.0    2020          11  HOU          34.3\n",
      "6387       Kevin Durant  SF  25.0    2014           7  OKC          32.0\n",
      "4710  Russell Westbrook  PG  28.0    2017           9  OKC          31.6\n",
      "2250       Bradley Beal  SG  26.0    2020           8  WAS          30.5\n",
      "3837       James Harden  SG  28.0    2018           9  HOU          30.4\n",
      "5328      Stephen Curry  PG  27.0    2016           7  GSW          30.1\n",
      "8720       Kevin Durant  SF  21.0    2010           3  OKC          30.1\n",
      "2308     Damian Lillard  PG  29.0    2020           8  POR          30.0\n",
      "8746       LeBron James  SF  25.0    2010           7  CLE          29.7\n"
     ]
    }
   ],
   "source": [
    "periodo_inicial = temp_2010\n",
    "periodo_final = temp_2020\n",
    "\n",
    "pontuadores = player_game[(player_game['season'] >= periodo_inicial) & (player_game['season'] <= periodo_final)]\n",
    "decada = pontuadores.nlargest(10, 'pts_per_game')[['player','pos','age', 'season', 'experience','tm','pts_per_game']]\n",
    "media_decada = decada[\"pts_per_game\"].mean()\n",
    "\n",
    "print('A média da década', periodo_inicial , 'foi de: ', media_decada.round(2))\n",
    "print('Os maiores pontuadores da década ', periodo_inicial )\n",
    "print(decada)"
   ]
  },
  {
   "cell_type": "markdown",
   "metadata": {},
   "source": [
    "# Década de 2020 até 2023"
   ]
  },
  {
   "cell_type": "code",
   "execution_count": 18,
   "metadata": {},
   "outputs": [
    {
     "name": "stdout",
     "output_type": "stream",
     "text": [
      "A média da década 2020 foi de:  31.89\n",
      "Os maiores pontuadores da década  2020\n",
      "                       player pos   age  season  experience   tm  pts_per_game\n",
      "2464             James Harden  SG  30.0    2020          11  HOU          34.3\n",
      "306               Joel Embiid   C  28.0    2023           7  PHI          33.1\n",
      "422               Luka Dončić  PG  23.0    2023           5  DAL          32.4\n",
      "103            Damian Lillard  PG  32.0    2023          11  POR          32.2\n",
      "2102            Stephen Curry  PG  32.0    2021          12  GSW          32.0\n",
      "588   Shai Gilgeous-Alexander  PG  24.0    2023           5  OKC          31.4\n",
      "1553             Bradley Beal  SG  27.0    2021           9  WAS          31.3\n",
      "207     Giannis Antetokounmpo  PF  28.0    2023          10  MIL          31.1\n",
      "1065              Joel Embiid   C  27.0    2022           6  PHI          30.6\n",
      "2250             Bradley Beal  SG  26.0    2020           8  WAS          30.5\n"
     ]
    }
   ],
   "source": [
    "periodo_inicial = temp_2020\n",
    "periodo_final = temp_ultima\n",
    "\n",
    "pontuadores = player_game[(player_game['season'] >= periodo_inicial) & (player_game['season'] <= periodo_final)]\n",
    "decada = pontuadores.nlargest(10, 'pts_per_game')[['player','pos','age', 'season', 'experience','tm','pts_per_game']]\n",
    "media_decada = decada[\"pts_per_game\"].mean()\n",
    "\n",
    "print('A média da década', periodo_inicial , 'foi de: ', media_decada.round(2))\n",
    "print('Os maiores pontuadores da década ', periodo_inicial )\n",
    "print(decada)"
   ]
  },
  {
   "cell_type": "markdown",
   "metadata": {},
   "source": [
    "# Média 10 maiores pontuadores de todas temporadas"
   ]
  },
  {
   "cell_type": "code",
   "execution_count": 74,
   "metadata": {
    "scrolled": true
   },
   "outputs": [
    {
     "name": "stdout",
     "output_type": "stream",
     "text": [
      "A média de pontos dos 10 maiores pontuadores de todas temporadas:  1947 até 2023 foi de: 39.41\n"
     ]
    }
   ],
   "source": [
    "dez_maiores = player_game.nlargest(10, 'pts_per_game')\n",
    "dez_maiores = dez_maiores[\"pts_per_game\"].mean()\n",
    "print('A média de pontos dos 10 maiores pontuadores de todas temporadas: ',primeira_temporada, 'até' ,ultima_temporada, 'foi de:' , dez_maiores.round(2))\n"
   ]
  },
  {
   "cell_type": "markdown",
   "metadata": {},
   "source": [
    "...\n",
    "#  1) Jogadores com mais de 35 pontos por partida\n",
    "#  1) Players with more than 35 points per match"
   ]
  },
  {
   "cell_type": "code",
   "execution_count": 48,
   "metadata": {
    "execution": {
     "iopub.execute_input": "2024-02-17T15:26:33.768315Z",
     "iopub.status.busy": "2024-02-17T15:26:33.767799Z",
     "iopub.status.idle": "2024-02-17T15:26:33.843081Z",
     "shell.execute_reply": "2024-02-17T15:26:33.841830Z",
     "shell.execute_reply.started": "2024-02-17T15:26:33.768270Z"
    },
    "scrolled": true
   },
   "outputs": [
    {
     "data": {
      "text/html": [
       "<div>\n",
       "<style scoped>\n",
       "    .dataframe tbody tr th:only-of-type {\n",
       "        vertical-align: middle;\n",
       "    }\n",
       "\n",
       "    .dataframe tbody tr th {\n",
       "        vertical-align: top;\n",
       "    }\n",
       "\n",
       "    .dataframe thead th {\n",
       "        text-align: right;\n",
       "    }\n",
       "</style>\n",
       "<table border=\"1\" class=\"dataframe\">\n",
       "  <thead>\n",
       "    <tr style=\"text-align: right;\">\n",
       "      <th></th>\n",
       "      <th>player</th>\n",
       "      <th>season</th>\n",
       "      <th>pos</th>\n",
       "      <th>age</th>\n",
       "      <th>experience</th>\n",
       "      <th>tm</th>\n",
       "      <th>pts_per_game</th>\n",
       "    </tr>\n",
       "  </thead>\n",
       "  <tbody>\n",
       "    <tr>\n",
       "      <th>28813</th>\n",
       "      <td>Wilt Chamberlain</td>\n",
       "      <td>1962</td>\n",
       "      <td>C</td>\n",
       "      <td>25.0</td>\n",
       "      <td>3</td>\n",
       "      <td>PHW</td>\n",
       "      <td>50.4</td>\n",
       "    </tr>\n",
       "    <tr>\n",
       "      <th>28679</th>\n",
       "      <td>Wilt Chamberlain</td>\n",
       "      <td>1963</td>\n",
       "      <td>C</td>\n",
       "      <td>26.0</td>\n",
       "      <td>4</td>\n",
       "      <td>SFW</td>\n",
       "      <td>44.8</td>\n",
       "    </tr>\n",
       "    <tr>\n",
       "      <th>28413</th>\n",
       "      <td>Wilt Chamberlain</td>\n",
       "      <td>1965</td>\n",
       "      <td>C</td>\n",
       "      <td>28.0</td>\n",
       "      <td>6</td>\n",
       "      <td>SFW</td>\n",
       "      <td>38.9</td>\n",
       "    </tr>\n",
       "    <tr>\n",
       "      <th>28921</th>\n",
       "      <td>Wilt Chamberlain</td>\n",
       "      <td>1961</td>\n",
       "      <td>C</td>\n",
       "      <td>24.0</td>\n",
       "      <td>2</td>\n",
       "      <td>PHW</td>\n",
       "      <td>38.4</td>\n",
       "    </tr>\n",
       "    <tr>\n",
       "      <th>28734</th>\n",
       "      <td>Elgin Baylor</td>\n",
       "      <td>1962</td>\n",
       "      <td>SF</td>\n",
       "      <td>27.0</td>\n",
       "      <td>4</td>\n",
       "      <td>LAL</td>\n",
       "      <td>38.3</td>\n",
       "    </tr>\n",
       "    <tr>\n",
       "      <th>29044</th>\n",
       "      <td>Wilt Chamberlain</td>\n",
       "      <td>1960</td>\n",
       "      <td>C</td>\n",
       "      <td>23.0</td>\n",
       "      <td>1</td>\n",
       "      <td>PHW</td>\n",
       "      <td>37.6</td>\n",
       "    </tr>\n",
       "    <tr>\n",
       "      <th>20453</th>\n",
       "      <td>Michael Jordan</td>\n",
       "      <td>1987</td>\n",
       "      <td>SG</td>\n",
       "      <td>23.0</td>\n",
       "      <td>3</td>\n",
       "      <td>CHI</td>\n",
       "      <td>37.1</td>\n",
       "    </tr>\n",
       "    <tr>\n",
       "      <th>28549</th>\n",
       "      <td>Wilt Chamberlain</td>\n",
       "      <td>1964</td>\n",
       "      <td>C</td>\n",
       "      <td>27.0</td>\n",
       "      <td>5</td>\n",
       "      <td>SFW</td>\n",
       "      <td>36.9</td>\n",
       "    </tr>\n",
       "    <tr>\n",
       "      <th>3135</th>\n",
       "      <td>James Harden</td>\n",
       "      <td>2019</td>\n",
       "      <td>PG</td>\n",
       "      <td>29.0</td>\n",
       "      <td>10</td>\n",
       "      <td>HOU</td>\n",
       "      <td>36.1</td>\n",
       "    </tr>\n",
       "    <tr>\n",
       "      <th>28124</th>\n",
       "      <td>Rick Barry</td>\n",
       "      <td>1967</td>\n",
       "      <td>SF</td>\n",
       "      <td>22.0</td>\n",
       "      <td>2</td>\n",
       "      <td>SFW</td>\n",
       "      <td>35.6</td>\n",
       "    </tr>\n",
       "    <tr>\n",
       "      <th>10973</th>\n",
       "      <td>Kobe Bryant</td>\n",
       "      <td>2006</td>\n",
       "      <td>SG</td>\n",
       "      <td>27.0</td>\n",
       "      <td>10</td>\n",
       "      <td>LAL</td>\n",
       "      <td>35.4</td>\n",
       "    </tr>\n",
       "  </tbody>\n",
       "</table>\n",
       "</div>"
      ],
      "text/plain": [
       "                 player  season pos   age  experience   tm  pts_per_game\n",
       "28813  Wilt Chamberlain    1962   C  25.0           3  PHW          50.4\n",
       "28679  Wilt Chamberlain    1963   C  26.0           4  SFW          44.8\n",
       "28413  Wilt Chamberlain    1965   C  28.0           6  SFW          38.9\n",
       "28921  Wilt Chamberlain    1961   C  24.0           2  PHW          38.4\n",
       "28734      Elgin Baylor    1962  SF  27.0           4  LAL          38.3\n",
       "29044  Wilt Chamberlain    1960   C  23.0           1  PHW          37.6\n",
       "20453    Michael Jordan    1987  SG  23.0           3  CHI          37.1\n",
       "28549  Wilt Chamberlain    1964   C  27.0           5  SFW          36.9\n",
       "3135       James Harden    2019  PG  29.0          10  HOU          36.1\n",
       "28124        Rick Barry    1967  SF  22.0           2  SFW          35.6\n",
       "10973       Kobe Bryant    2006  SG  27.0          10  LAL          35.4"
      ]
     },
     "execution_count": 48,
     "metadata": {},
     "output_type": "execute_result"
    }
   ],
   "source": [
    "#Jogadores com mais de 35 pontos por partida\n",
    "maiores_pontuadores = player_game.query('pts_per_game > 35')[['player','season','pos','age', 'experience','tm','pts_per_game']]\n",
    "maiores_pontuadores.sort_values('pts_per_game', ascending=False)\n"
   ]
  },
  {
   "cell_type": "markdown",
   "metadata": {},
   "source": [
    "________________________________________________________________________________________________________________________\n",
    "\n",
    "# Análise jogador - Michael Jordan\n",
    "# Player analysis - Michael Jordan"
   ]
  },
  {
   "cell_type": "markdown",
   "metadata": {},
   "source": [
    "________________________________________________________________________________________________________________________"
   ]
  },
  {
   "cell_type": "markdown",
   "metadata": {},
   "source": [
    "\n",
    "# 2) Michal Jordan - estatísticas por jogo no 1º ano de NBA\n",
    "# 2) Michal Jordan - stats per game in 1st year of NBA\n",
    "![Jordan](https://s2.glbimg.com/aH8Qm_BhkDtklFUpMzPPdKD1Fz3clJuUlwbRa-Y8b0SMKtSyFysUcLNrDB_hn4H8/s.glbimg.com/es/ge/f/original/2013/02/17/bas_michaeljordan01_get.jpg)\n",
    "\n",
    "\n",
    "Idade: 21\n",
    "\n",
    "ast_per_game: 5.9\n",
    "\n",
    "stl_per_game: 2.4\n",
    "\n",
    "blk_per_game: 0.8\n",
    "\n",
    "pts_per_game: 28.2\n",
    "\n",
    "\n",
    "Legendas\n",
    "\n",
    "ast - assistência \n",
    "\n",
    "stl - roubo de bola\n",
    "\n",
    "pts - pontos\n",
    "\n",
    "\n",
    "Fonte: https://ge.globo.com/basquete/noticia/2013/02/jordan-50-motivos-para-ser-o-maior-jogador-de-todos-os-tempos.html"
   ]
  },
  {
   "cell_type": "code",
   "execution_count": 30,
   "metadata": {
    "execution": {
     "iopub.execute_input": "2023-07-18T23:57:30.625646Z",
     "iopub.status.busy": "2023-07-18T23:57:30.624713Z",
     "iopub.status.idle": "2023-07-18T23:57:30.666642Z",
     "shell.execute_reply": "2023-07-18T23:57:30.664939Z",
     "shell.execute_reply.started": "2023-07-18T23:57:30.625601Z"
    },
    "scrolled": true
   },
   "outputs": [
    {
     "data": {
      "text/html": [
       "<div>\n",
       "<style scoped>\n",
       "    .dataframe tbody tr th:only-of-type {\n",
       "        vertical-align: middle;\n",
       "    }\n",
       "\n",
       "    .dataframe tbody tr th {\n",
       "        vertical-align: top;\n",
       "    }\n",
       "\n",
       "    .dataframe thead th {\n",
       "        text-align: right;\n",
       "    }\n",
       "</style>\n",
       "<table border=\"1\" class=\"dataframe\">\n",
       "  <thead>\n",
       "    <tr style=\"text-align: right;\">\n",
       "      <th></th>\n",
       "      <th>seas_id</th>\n",
       "      <th>season</th>\n",
       "      <th>player_id</th>\n",
       "      <th>player</th>\n",
       "      <th>birth_year</th>\n",
       "      <th>pos</th>\n",
       "      <th>age</th>\n",
       "      <th>experience</th>\n",
       "      <th>lg</th>\n",
       "      <th>tm</th>\n",
       "      <th>...</th>\n",
       "      <th>ft_percent</th>\n",
       "      <th>orb_per_game</th>\n",
       "      <th>drb_per_game</th>\n",
       "      <th>trb_per_game</th>\n",
       "      <th>ast_per_game</th>\n",
       "      <th>stl_per_game</th>\n",
       "      <th>blk_per_game</th>\n",
       "      <th>tov_per_game</th>\n",
       "      <th>pf_per_game</th>\n",
       "      <th>pts_per_game</th>\n",
       "    </tr>\n",
       "  </thead>\n",
       "  <tbody>\n",
       "    <tr>\n",
       "      <th>20822</th>\n",
       "      <td>10425</td>\n",
       "      <td>1986</td>\n",
       "      <td>2193</td>\n",
       "      <td>Michael Jordan</td>\n",
       "      <td>NaN</td>\n",
       "      <td>SG</td>\n",
       "      <td>22.0</td>\n",
       "      <td>2</td>\n",
       "      <td>NBA</td>\n",
       "      <td>CHI</td>\n",
       "      <td>...</td>\n",
       "      <td>0.84</td>\n",
       "      <td>1.3</td>\n",
       "      <td>2.3</td>\n",
       "      <td>3.6</td>\n",
       "      <td>2.9</td>\n",
       "      <td>2.1</td>\n",
       "      <td>1.2</td>\n",
       "      <td>2.5</td>\n",
       "      <td>2.6</td>\n",
       "      <td>22.7</td>\n",
       "    </tr>\n",
       "  </tbody>\n",
       "</table>\n",
       "<p>1 rows × 35 columns</p>\n",
       "</div>"
      ],
      "text/plain": [
       "       seas_id  season  player_id          player  birth_year pos   age  \\\n",
       "20822    10425    1986       2193  Michael Jordan         NaN  SG  22.0   \n",
       "\n",
       "       experience   lg   tm  ...  ft_percent  orb_per_game  drb_per_game  \\\n",
       "20822           2  NBA  CHI  ...        0.84           1.3           2.3   \n",
       "\n",
       "       trb_per_game  ast_per_game  stl_per_game  blk_per_game  tov_per_game  \\\n",
       "20822           3.6           2.9           2.1           1.2           2.5   \n",
       "\n",
       "       pf_per_game  pts_per_game  \n",
       "20822          2.6          22.7  \n",
       "\n",
       "[1 rows x 35 columns]"
      ]
     },
     "execution_count": 30,
     "metadata": {},
     "output_type": "execute_result"
    }
   ],
   "source": [
    "# This player's second year (Michael Jordan)\n",
    "player_game.query(\"player == 'Michael Jordan' and experience == 2\")\n"
   ]
  },
  {
   "cell_type": "markdown",
   "metadata": {},
   "source": [
    "# 3) Michal Jordan - estatísticas por jogo no 2º ano de NBA\n",
    "# 3) Michal Jordan - stats per game in 2nd year of NBA\n",
    "\n",
    "![Jordan](https://sneakernews.com/wp-content/uploads/2015/04/michael-jordan-changed-a-ball-boy-life.jpg)\n",
    "\n",
    "\n",
    "Idade: 22\n",
    "\n",
    "ast_per_game: 2.9\n",
    "\n",
    "stl_per_game: 2.1\n",
    "\n",
    "blk_per_game: 1.2\n",
    "\n",
    "pts_per_game: 22.7\n",
    "\n",
    "\n",
    "Legendas\n",
    "\n",
    "ast - assistência \n",
    "\n",
    "stl - roubo de bola\n",
    "\n",
    "pts - pontos\n",
    "\n",
    "\n",
    "Fonte: https://sneakernews.com/2015/04/22/how-a-rookie-michael-jordan-changed-a-lucky-ball-boys-life/"
   ]
  },
  {
   "cell_type": "markdown",
   "metadata": {},
   "source": [
    "# 4) Michal Jordan - estatísticas por jogo nos primeiros 5 anos de NBA\n",
    "# 4) Michal Jordan - stats per game in the first 5 years of NBA\n",
    "![Jordan](https://myhero.com/content/images/thumbs/0120508_michael-jordan.jpeg)\n",
    "\n",
    "\n",
    "Fonte: https://myhero.com/content/images/thumbs/0120508_michael-jordan.jpeg"
   ]
  },
  {
   "cell_type": "code",
   "execution_count": 37,
   "metadata": {
    "execution": {
     "iopub.execute_input": "2023-07-19T00:03:00.492711Z",
     "iopub.status.busy": "2023-07-19T00:03:00.492209Z",
     "iopub.status.idle": "2023-07-19T00:03:00.520335Z",
     "shell.execute_reply": "2023-07-19T00:03:00.519537Z",
     "shell.execute_reply.started": "2023-07-19T00:03:00.492677Z"
    },
    "scrolled": true
   },
   "outputs": [
    {
     "data": {
      "text/html": [
       "<div>\n",
       "<style scoped>\n",
       "    .dataframe tbody tr th:only-of-type {\n",
       "        vertical-align: middle;\n",
       "    }\n",
       "\n",
       "    .dataframe tbody tr th {\n",
       "        vertical-align: top;\n",
       "    }\n",
       "\n",
       "    .dataframe thead th {\n",
       "        text-align: right;\n",
       "    }\n",
       "</style>\n",
       "<table border=\"1\" class=\"dataframe\">\n",
       "  <thead>\n",
       "    <tr style=\"text-align: right;\">\n",
       "      <th></th>\n",
       "      <th>player</th>\n",
       "      <th>age</th>\n",
       "      <th>experience</th>\n",
       "      <th>ast_per_game</th>\n",
       "      <th>stl_per_game</th>\n",
       "      <th>blk_per_game</th>\n",
       "      <th>pts_per_game</th>\n",
       "    </tr>\n",
       "  </thead>\n",
       "  <tbody>\n",
       "    <tr>\n",
       "      <th>19619</th>\n",
       "      <td>Michael Jordan</td>\n",
       "      <td>25.0</td>\n",
       "      <td>5</td>\n",
       "      <td>8.0</td>\n",
       "      <td>2.9</td>\n",
       "      <td>0.8</td>\n",
       "      <td>32.5</td>\n",
       "    </tr>\n",
       "    <tr>\n",
       "      <th>20044</th>\n",
       "      <td>Michael Jordan</td>\n",
       "      <td>24.0</td>\n",
       "      <td>4</td>\n",
       "      <td>5.9</td>\n",
       "      <td>3.2</td>\n",
       "      <td>1.6</td>\n",
       "      <td>35.0</td>\n",
       "    </tr>\n",
       "    <tr>\n",
       "      <th>20453</th>\n",
       "      <td>Michael Jordan</td>\n",
       "      <td>23.0</td>\n",
       "      <td>3</td>\n",
       "      <td>4.6</td>\n",
       "      <td>2.9</td>\n",
       "      <td>1.5</td>\n",
       "      <td>37.1</td>\n",
       "    </tr>\n",
       "    <tr>\n",
       "      <th>20822</th>\n",
       "      <td>Michael Jordan</td>\n",
       "      <td>22.0</td>\n",
       "      <td>2</td>\n",
       "      <td>2.9</td>\n",
       "      <td>2.1</td>\n",
       "      <td>1.2</td>\n",
       "      <td>22.7</td>\n",
       "    </tr>\n",
       "    <tr>\n",
       "      <th>21195</th>\n",
       "      <td>Michael Jordan</td>\n",
       "      <td>21.0</td>\n",
       "      <td>1</td>\n",
       "      <td>5.9</td>\n",
       "      <td>2.4</td>\n",
       "      <td>0.8</td>\n",
       "      <td>28.2</td>\n",
       "    </tr>\n",
       "  </tbody>\n",
       "</table>\n",
       "</div>"
      ],
      "text/plain": [
       "               player   age  experience  ast_per_game  stl_per_game  \\\n",
       "19619  Michael Jordan  25.0           5           8.0           2.9   \n",
       "20044  Michael Jordan  24.0           4           5.9           3.2   \n",
       "20453  Michael Jordan  23.0           3           4.6           2.9   \n",
       "20822  Michael Jordan  22.0           2           2.9           2.1   \n",
       "21195  Michael Jordan  21.0           1           5.9           2.4   \n",
       "\n",
       "       blk_per_game  pts_per_game  \n",
       "19619           0.8          32.5  \n",
       "20044           1.6          35.0  \n",
       "20453           1.5          37.1  \n",
       "20822           1.2          22.7  \n",
       "21195           0.8          28.2  "
      ]
     },
     "execution_count": 37,
     "metadata": {},
     "output_type": "execute_result"
    }
   ],
   "source": [
    "# 5 years statistics of each player (Michael Jordan)\n",
    "player_game.query(\"player == 'Michael Jordan' and experience <= 5\")[['player','age', 'experience','ast_per_game','stl_per_game','blk_per_game','pts_per_game']]\n"
   ]
  },
  {
   "cell_type": "code",
   "execution_count": 35,
   "metadata": {
    "scrolled": true
   },
   "outputs": [
    {
     "data": {
      "text/html": [
       "<div>\n",
       "<style scoped>\n",
       "    .dataframe tbody tr th:only-of-type {\n",
       "        vertical-align: middle;\n",
       "    }\n",
       "\n",
       "    .dataframe tbody tr th {\n",
       "        vertical-align: top;\n",
       "    }\n",
       "\n",
       "    .dataframe thead th {\n",
       "        text-align: right;\n",
       "    }\n",
       "</style>\n",
       "<table border=\"1\" class=\"dataframe\">\n",
       "  <thead>\n",
       "    <tr style=\"text-align: right;\">\n",
       "      <th></th>\n",
       "      <th>seas_id</th>\n",
       "      <th>season</th>\n",
       "      <th>player_id</th>\n",
       "      <th>player</th>\n",
       "      <th>birth_year</th>\n",
       "      <th>pos</th>\n",
       "      <th>age</th>\n",
       "      <th>experience</th>\n",
       "      <th>lg</th>\n",
       "      <th>tm</th>\n",
       "      <th>...</th>\n",
       "      <th>ft_percent</th>\n",
       "      <th>orb_per_game</th>\n",
       "      <th>drb_per_game</th>\n",
       "      <th>trb_per_game</th>\n",
       "      <th>ast_per_game</th>\n",
       "      <th>stl_per_game</th>\n",
       "      <th>blk_per_game</th>\n",
       "      <th>tov_per_game</th>\n",
       "      <th>pf_per_game</th>\n",
       "      <th>pts_per_game</th>\n",
       "    </tr>\n",
       "  </thead>\n",
       "  <tbody>\n",
       "    <tr>\n",
       "      <th>15809</th>\n",
       "      <td>15419</td>\n",
       "      <td>1997</td>\n",
       "      <td>3000</td>\n",
       "      <td>Kobe Bryant</td>\n",
       "      <td>NaN</td>\n",
       "      <td>SF</td>\n",
       "      <td>18.0</td>\n",
       "      <td>1</td>\n",
       "      <td>NBA</td>\n",
       "      <td>LAL</td>\n",
       "      <td>...</td>\n",
       "      <td>0.819</td>\n",
       "      <td>0.7</td>\n",
       "      <td>1.2</td>\n",
       "      <td>1.9</td>\n",
       "      <td>1.3</td>\n",
       "      <td>0.7</td>\n",
       "      <td>0.3</td>\n",
       "      <td>1.6</td>\n",
       "      <td>1.4</td>\n",
       "      <td>7.6</td>\n",
       "    </tr>\n",
       "  </tbody>\n",
       "</table>\n",
       "<p>1 rows × 35 columns</p>\n",
       "</div>"
      ],
      "text/plain": [
       "       seas_id  season  player_id       player  birth_year pos   age  \\\n",
       "15809    15419    1997       3000  Kobe Bryant         NaN  SF  18.0   \n",
       "\n",
       "       experience   lg   tm  ...  ft_percent  orb_per_game  drb_per_game  \\\n",
       "15809           1  NBA  LAL  ...       0.819           0.7           1.2   \n",
       "\n",
       "       trb_per_game  ast_per_game  stl_per_game  blk_per_game  tov_per_game  \\\n",
       "15809           1.9           1.3           0.7           0.3           1.6   \n",
       "\n",
       "       pf_per_game  pts_per_game  \n",
       "15809          1.4           7.6  \n",
       "\n",
       "[1 rows x 35 columns]"
      ]
     },
     "execution_count": 35,
     "metadata": {},
     "output_type": "execute_result"
    }
   ],
   "source": [
    "# This player's first year (Kobe Bryant)\n",
    "player_game.query(\"player == 'Kobe Bryant' and experience == 1\")"
   ]
  },
  {
   "cell_type": "markdown",
   "metadata": {},
   "source": [
    "________________________________________________________________________________________________________________________\n",
    "\n",
    "# Análise jogador - Kobe Bryant\n",
    "# Player analysis - Kobe Bryant"
   ]
  },
  {
   "cell_type": "markdown",
   "metadata": {},
   "source": [
    "________________________________________________________________________________________________________________________"
   ]
  },
  {
   "cell_type": "markdown",
   "metadata": {},
   "source": [
    "# 2) Kobe Bryant - estatísticas por jogo no 1º ano de NBA\n",
    "# 2) Kobe Bryant - stats per game in 1st year of NBA\n",
    "![Kobe](https://bloximages.newyork1.vip.townnews.com/wenatcheeworld.com/content/tncms/assets/v3/editorial/5/ff/5ff86110-627a-5269-b3b3-a66d08afa4b8/647f5bfbaca4f.image.jpg)\n",
    "\n",
    "\n",
    "Idade: 18\n",
    "\n",
    "ast_per_game: 1.3\n",
    "\n",
    "stl_per_game: 0.7\n",
    "\n",
    "blk_per_game: 0.3\n",
    "\n",
    "pts_per_game: 7.6\n",
    "\n",
    "\n",
    "Legendas\n",
    "\n",
    "ast - assistência \n",
    "\n",
    "stl - roubo de bola\n",
    "\n",
    "pts - pontos\n",
    "\n",
    "\n",
    "Fonte: https://bloximages.newyork1.vip.townnews.com/wenatcheeworld.com/content/tncms/assets/v3/editorial/5/ff/5ff86110-627a-5269-b3b3-a66d08afa4b8/647f5bfbaca4f.image.jpg\n",
    "\n",
    "\n"
   ]
  },
  {
   "cell_type": "code",
   "execution_count": 11,
   "metadata": {
    "execution": {
     "iopub.execute_input": "2024-02-17T15:36:46.522304Z",
     "iopub.status.busy": "2024-02-17T15:36:46.521911Z",
     "iopub.status.idle": "2024-02-17T15:36:46.555902Z",
     "shell.execute_reply": "2024-02-17T15:36:46.554657Z",
     "shell.execute_reply.started": "2024-02-17T15:36:46.522275Z"
    }
   },
   "outputs": [
    {
     "data": {
      "text/html": [
       "<div>\n",
       "<style scoped>\n",
       "    .dataframe tbody tr th:only-of-type {\n",
       "        vertical-align: middle;\n",
       "    }\n",
       "\n",
       "    .dataframe tbody tr th {\n",
       "        vertical-align: top;\n",
       "    }\n",
       "\n",
       "    .dataframe thead th {\n",
       "        text-align: right;\n",
       "    }\n",
       "</style>\n",
       "<table border=\"1\" class=\"dataframe\">\n",
       "  <thead>\n",
       "    <tr style=\"text-align: right;\">\n",
       "      <th></th>\n",
       "      <th>seas_id</th>\n",
       "      <th>season</th>\n",
       "      <th>player_id</th>\n",
       "      <th>player</th>\n",
       "      <th>birth_year</th>\n",
       "      <th>pos</th>\n",
       "      <th>age</th>\n",
       "      <th>experience</th>\n",
       "      <th>lg</th>\n",
       "      <th>tm</th>\n",
       "      <th>...</th>\n",
       "      <th>ft_percent</th>\n",
       "      <th>orb_per_game</th>\n",
       "      <th>drb_per_game</th>\n",
       "      <th>trb_per_game</th>\n",
       "      <th>ast_per_game</th>\n",
       "      <th>stl_per_game</th>\n",
       "      <th>blk_per_game</th>\n",
       "      <th>tov_per_game</th>\n",
       "      <th>pf_per_game</th>\n",
       "      <th>pts_per_game</th>\n",
       "    </tr>\n",
       "  </thead>\n",
       "  <tbody>\n",
       "    <tr>\n",
       "      <th>15919</th>\n",
       "      <td>15998</td>\n",
       "      <td>1998</td>\n",
       "      <td>3000</td>\n",
       "      <td>Kobe Bryant</td>\n",
       "      <td>NaN</td>\n",
       "      <td>SF</td>\n",
       "      <td>19.0</td>\n",
       "      <td>2</td>\n",
       "      <td>NBA</td>\n",
       "      <td>LAL</td>\n",
       "      <td>...</td>\n",
       "      <td>0.794</td>\n",
       "      <td>1.0</td>\n",
       "      <td>2.1</td>\n",
       "      <td>3.1</td>\n",
       "      <td>2.5</td>\n",
       "      <td>0.9</td>\n",
       "      <td>0.5</td>\n",
       "      <td>2.0</td>\n",
       "      <td>2.3</td>\n",
       "      <td>15.4</td>\n",
       "    </tr>\n",
       "  </tbody>\n",
       "</table>\n",
       "<p>1 rows × 35 columns</p>\n",
       "</div>"
      ],
      "text/plain": [
       "       seas_id  season  player_id       player  birth_year pos   age  \\\n",
       "15919    15998    1998       3000  Kobe Bryant         NaN  SF  19.0   \n",
       "\n",
       "       experience   lg   tm  ...  ft_percent  orb_per_game  drb_per_game  \\\n",
       "15919           2  NBA  LAL  ...       0.794           1.0           2.1   \n",
       "\n",
       "       trb_per_game  ast_per_game  stl_per_game  blk_per_game  tov_per_game  \\\n",
       "15919           3.1           2.5           0.9           0.5           2.0   \n",
       "\n",
       "       pf_per_game  pts_per_game  \n",
       "15919          2.3          15.4  \n",
       "\n",
       "[1 rows x 35 columns]"
      ]
     },
     "execution_count": 11,
     "metadata": {},
     "output_type": "execute_result"
    }
   ],
   "source": [
    "# This player's first year (Kobe Bryant)\n",
    "player_game.query(\"player == 'Kobe Bryant' and experience == 2\")"
   ]
  },
  {
   "cell_type": "markdown",
   "metadata": {},
   "source": [
    "# 3) Kobe Bryant - estatísticas por jogo no 2º ano de NBA\n",
    "![Kobe](https://cdn.vox-cdn.com/thumbor/vLjL0coUfwspg9W00xzT-6OTde8=/0x0:2398x3598/920x613/filters:focal(482x1135:864x1517):format(webp)/cdn.vox-cdn.com/uploads/chorus_image/image/66767315/75045057.jpg.0.jpg)\n",
    "\n",
    "\n",
    "Idade: 19\n",
    "\n",
    "ast_per_game: 2.3\n",
    "\n",
    "stl_per_game: 0.9\n",
    "\n",
    "blk_per_game: 0.5\n",
    "\n",
    "pts_per_game: 15.4\n",
    "\n",
    "\n",
    "Legendas\n",
    "\n",
    "ast_per_game - assistência por jogo\n",
    "\n",
    "stl_per_game - roubo de bola por jogo\n",
    "\n",
    "blk_per_game - bloqueios por jogo\n",
    "\n",
    "pts_per_game - pontos por jogo\n",
    "\n",
    "\n",
    "Fonte: https://www.silverscreenandroll.com/2020/5/7/21250004/lakers-news-kobe-bryant-waves-off-karl-malone-1998-nba-all-star-game"
   ]
  },
  {
   "cell_type": "markdown",
   "metadata": {},
   "source": []
  },
  {
   "cell_type": "markdown",
   "metadata": {},
   "source": [
    "# 4) Kobe Bryant - estatísticas por jogo nos primeiros 5 anos de NBA\n",
    "\n",
    "![Kobe](https://papodesportivo.files.wordpress.com/2016/04/kobe.jpg?w=1024&h=640)\n",
    "\n",
    "\n",
    "Fonte: https://papodesportivo.wordpress.com/2016/04/13/muito-obrigado-kobe-bryant/\n"
   ]
  },
  {
   "cell_type": "code",
   "execution_count": 13,
   "metadata": {},
   "outputs": [
    {
     "data": {
      "text/html": [
       "<div>\n",
       "<style scoped>\n",
       "    .dataframe tbody tr th:only-of-type {\n",
       "        vertical-align: middle;\n",
       "    }\n",
       "\n",
       "    .dataframe tbody tr th {\n",
       "        vertical-align: top;\n",
       "    }\n",
       "\n",
       "    .dataframe thead th {\n",
       "        text-align: right;\n",
       "    }\n",
       "</style>\n",
       "<table border=\"1\" class=\"dataframe\">\n",
       "  <thead>\n",
       "    <tr style=\"text-align: right;\">\n",
       "      <th></th>\n",
       "      <th>player</th>\n",
       "      <th>age</th>\n",
       "      <th>experience</th>\n",
       "      <th>ast_per_game</th>\n",
       "      <th>stl_per_game</th>\n",
       "      <th>blk_per_game</th>\n",
       "      <th>pts_per_game</th>\n",
       "    </tr>\n",
       "  </thead>\n",
       "  <tbody>\n",
       "    <tr>\n",
       "      <th>13693</th>\n",
       "      <td>Kobe Bryant</td>\n",
       "      <td>22.0</td>\n",
       "      <td>5</td>\n",
       "      <td>5.0</td>\n",
       "      <td>1.7</td>\n",
       "      <td>0.6</td>\n",
       "      <td>28.5</td>\n",
       "    </tr>\n",
       "    <tr>\n",
       "      <th>14212</th>\n",
       "      <td>Kobe Bryant</td>\n",
       "      <td>21.0</td>\n",
       "      <td>4</td>\n",
       "      <td>4.9</td>\n",
       "      <td>1.6</td>\n",
       "      <td>0.9</td>\n",
       "      <td>22.5</td>\n",
       "    </tr>\n",
       "    <tr>\n",
       "      <th>14720</th>\n",
       "      <td>Kobe Bryant</td>\n",
       "      <td>20.0</td>\n",
       "      <td>3</td>\n",
       "      <td>3.8</td>\n",
       "      <td>1.4</td>\n",
       "      <td>1.0</td>\n",
       "      <td>19.9</td>\n",
       "    </tr>\n",
       "    <tr>\n",
       "      <th>15267</th>\n",
       "      <td>Kobe Bryant</td>\n",
       "      <td>19.0</td>\n",
       "      <td>2</td>\n",
       "      <td>2.5</td>\n",
       "      <td>0.9</td>\n",
       "      <td>0.5</td>\n",
       "      <td>15.4</td>\n",
       "    </tr>\n",
       "    <tr>\n",
       "      <th>15809</th>\n",
       "      <td>Kobe Bryant</td>\n",
       "      <td>18.0</td>\n",
       "      <td>1</td>\n",
       "      <td>1.3</td>\n",
       "      <td>0.7</td>\n",
       "      <td>0.3</td>\n",
       "      <td>7.6</td>\n",
       "    </tr>\n",
       "  </tbody>\n",
       "</table>\n",
       "</div>"
      ],
      "text/plain": [
       "            player   age  experience  ast_per_game  stl_per_game  \\\n",
       "13693  Kobe Bryant  22.0           5           5.0           1.7   \n",
       "14212  Kobe Bryant  21.0           4           4.9           1.6   \n",
       "14720  Kobe Bryant  20.0           3           3.8           1.4   \n",
       "15267  Kobe Bryant  19.0           2           2.5           0.9   \n",
       "15809  Kobe Bryant  18.0           1           1.3           0.7   \n",
       "\n",
       "       blk_per_game  pts_per_game  \n",
       "13693           0.6          28.5  \n",
       "14212           0.9          22.5  \n",
       "14720           1.0          19.9  \n",
       "15267           0.5          15.4  \n",
       "15809           0.3           7.6  "
      ]
     },
     "execution_count": 13,
     "metadata": {},
     "output_type": "execute_result"
    }
   ],
   "source": [
    "# 5 years statistics of each player (Kobe Bryant)\n",
    "player_game.query(\"player == 'Kobe Bryant' and experience <= 5\")[['player','age', 'experience','ast_per_game','stl_per_game','blk_per_game','pts_per_game']]\n"
   ]
  },
  {
   "cell_type": "markdown",
   "metadata": {},
   "source": [
    "Alterando nome das colunas para ficar igual do dataset player_game\n",
    "\n"
   ]
  },
  {
   "cell_type": "code",
   "execution_count": 18,
   "metadata": {},
   "outputs": [
    {
     "ename": "TypeError",
     "evalue": "DataFrame.rename() got an unexpected keyword argument 'implace'",
     "output_type": "error",
     "traceback": [
      "\u001b[1;31m---------------------------------------------------------------------------\u001b[0m",
      "\u001b[1;31mTypeError\u001b[0m                                 Traceback (most recent call last)",
      "Cell \u001b[1;32mIn[18], line 1\u001b[0m\n\u001b[1;32m----> 1\u001b[0m allstar\u001b[38;5;241m.\u001b[39mrename(columns\u001b[38;5;241m=\u001b[39m{\u001b[38;5;124m'\u001b[39m\u001b[38;5;124mAST\u001b[39m\u001b[38;5;124m'\u001b[39m:\u001b[38;5;124m'\u001b[39m\u001b[38;5;124mast_per_game\u001b[39m\u001b[38;5;124m'\u001b[39m,\u001b[38;5;124m'\u001b[39m\u001b[38;5;124mSTL\u001b[39m\u001b[38;5;124m'\u001b[39m:\u001b[38;5;124m'\u001b[39m\u001b[38;5;124mstl_per_game\u001b[39m\u001b[38;5;124m'\u001b[39m,\u001b[38;5;124m'\u001b[39m\u001b[38;5;124mBLK\u001b[39m\u001b[38;5;124m'\u001b[39m:\u001b[38;5;124m'\u001b[39m\u001b[38;5;124mblk_per_game\u001b[39m\u001b[38;5;124m'\u001b[39m,\u001b[38;5;124m'\u001b[39m\u001b[38;5;124mPTS\u001b[39m\u001b[38;5;124m'\u001b[39m:\u001b[38;5;124m'\u001b[39m\u001b[38;5;124mpts_per_game\u001b[39m\u001b[38;5;124m'\u001b[39m,\u001b[38;5;124m'\u001b[39m\u001b[38;5;124mPlayer\u001b[39m\u001b[38;5;124m'\u001b[39m:\u001b[38;5;124m'\u001b[39m\u001b[38;5;124mplayer\u001b[39m\u001b[38;5;124m'\u001b[39m}, implace\u001b[38;5;241m=\u001b[39m\u001b[38;5;28;01mTrue\u001b[39;00m)\n",
      "\u001b[1;31mTypeError\u001b[0m: DataFrame.rename() got an unexpected keyword argument 'implace'"
     ]
    }
   ],
   "source": [
    "allstar.rename(columns={'AST':'ast_per_game','STL':'stl_per_game','BLK':'blk_per_game','PTS':'pts_per_game','Player':'player'}, implace=True)"
   ]
  },
  {
   "cell_type": "markdown",
   "metadata": {},
   "source": [
    "________________________________________________________________________________________________________________________\n",
    "\n",
    "# Análise jogador - Lebron James\n",
    "# Player analysis - Lebron James"
   ]
  },
  {
   "cell_type": "markdown",
   "metadata": {},
   "source": [
    "________________________________________________________________________________________________________________________\n"
   ]
  },
  {
   "cell_type": "markdown",
   "metadata": {},
   "source": [
    "# 2) Lebron James - estatísticas por jogo no 1º ano de NBA\n",
    "![Lebron](https://a.espncdn.com/photo/2012/0112/nba_g_jamesleb_576.jpg)\n",
    "\n",
    "\n",
    "Idade: 20\n",
    "\n",
    "ast_per_game: 6.0\n",
    "\n",
    "stl_per_game: 2.0\n",
    "\n",
    "blk_per_game: 0.0\n",
    "\n",
    "pts_per_game: 13\n",
    "\n",
    "\n",
    "Legendas\n",
    "\n",
    "ast - assistência \n",
    "\n",
    "stl - roubo de bola\n",
    "\n",
    "pts - pontos\n",
    "\n",
    "\n",
    "Fonte: https://a.espncdn.com/photo/2012/0112/nba_g_jamesleb_576.jpg\n"
   ]
  },
  {
   "cell_type": "code",
   "execution_count": 9,
   "metadata": {
    "execution": {
     "iopub.execute_input": "2024-02-17T15:29:49.254817Z",
     "iopub.status.busy": "2024-02-17T15:29:49.254408Z",
     "iopub.status.idle": "2024-02-17T15:29:49.285634Z",
     "shell.execute_reply": "2024-02-17T15:29:49.284514Z",
     "shell.execute_reply.started": "2024-02-17T15:29:49.254775Z"
    }
   },
   "outputs": [
    {
     "data": {
      "text/html": [
       "<div>\n",
       "<style scoped>\n",
       "    .dataframe tbody tr th:only-of-type {\n",
       "        vertical-align: middle;\n",
       "    }\n",
       "\n",
       "    .dataframe tbody tr th {\n",
       "        vertical-align: top;\n",
       "    }\n",
       "\n",
       "    .dataframe thead th {\n",
       "        text-align: right;\n",
       "    }\n",
       "</style>\n",
       "<table border=\"1\" class=\"dataframe\">\n",
       "  <thead>\n",
       "    <tr style=\"text-align: right;\">\n",
       "      <th></th>\n",
       "      <th>Season</th>\n",
       "      <th>Age</th>\n",
       "      <th>Tm</th>\n",
       "      <th>Lg</th>\n",
       "      <th>Pos</th>\n",
       "      <th>G</th>\n",
       "      <th>GS</th>\n",
       "      <th>MP</th>\n",
       "      <th>FG</th>\n",
       "      <th>FGA</th>\n",
       "      <th>...</th>\n",
       "      <th>FT%</th>\n",
       "      <th>ORB</th>\n",
       "      <th>TRB</th>\n",
       "      <th>AST</th>\n",
       "      <th>STL</th>\n",
       "      <th>BLK</th>\n",
       "      <th>TOV</th>\n",
       "      <th>PF</th>\n",
       "      <th>PTS</th>\n",
       "      <th>Player</th>\n",
       "    </tr>\n",
       "  </thead>\n",
       "  <tbody>\n",
       "    <tr>\n",
       "      <th>0</th>\n",
       "      <td>2004-05</td>\n",
       "      <td>20</td>\n",
       "      <td>CLE</td>\n",
       "      <td>NBA</td>\n",
       "      <td>SF</td>\n",
       "      <td>1.0</td>\n",
       "      <td>1.0</td>\n",
       "      <td>31:25</td>\n",
       "      <td>6.0</td>\n",
       "      <td>13.0</td>\n",
       "      <td>...</td>\n",
       "      <td>0.0</td>\n",
       "      <td>1.0</td>\n",
       "      <td>8.0</td>\n",
       "      <td>6.0</td>\n",
       "      <td>2.0</td>\n",
       "      <td>0.0</td>\n",
       "      <td>3.0</td>\n",
       "      <td>0.0</td>\n",
       "      <td>13.0</td>\n",
       "      <td>Lebron James</td>\n",
       "    </tr>\n",
       "  </tbody>\n",
       "</table>\n",
       "<p>1 rows × 26 columns</p>\n",
       "</div>"
      ],
      "text/plain": [
       "    Season  Age   Tm   Lg Pos    G   GS     MP   FG   FGA  ...  FT%  ORB  TRB  \\\n",
       "0  2004-05   20  CLE  NBA  SF  1.0  1.0  31:25  6.0  13.0  ...  0.0  1.0  8.0   \n",
       "\n",
       "   AST  STL  BLK  TOV   PF   PTS        Player  \n",
       "0  6.0  2.0  0.0  3.0  0.0  13.0  Lebron James  \n",
       "\n",
       "[1 rows x 26 columns]"
      ]
     },
     "execution_count": 9,
     "metadata": {},
     "output_type": "execute_result"
    }
   ],
   "source": [
    "# This player's first year (Lebron James)\n",
    "allstar.query(\"Player == 'Lebron James' and Age == 20\")\n"
   ]
  },
  {
   "cell_type": "markdown",
   "metadata": {},
   "source": [
    "# 3) Lebron James - estatísticas por jogo no 2º ano de NBA\n",
    "![Lebron](https://s3.amazonaws.com/content.espn.com.br/image/wide/622_47604d50-637b-3908-86dc-58f0ffb3f7b3.jpg)\n",
    "\n",
    "\n",
    "Idade: 21\n",
    "\n",
    "AST: 2.0\n",
    "\n",
    "STL: 2.0\n",
    "\n",
    "BLK: 0.0\n",
    "\n",
    "PTS: 29\n",
    "\n",
    "\n",
    "Legendas\n",
    "\n",
    "AST - assistência \n",
    "\n",
    "STL - roubo de bola\n",
    "\n",
    "BLK - bloqueios\n",
    "\n",
    "PTS - pontos\n",
    "\n",
    "\n",
    "Fonte: http://www.espn.com.br/noticia/493798_ha-10-anos-lebron-tinha-seu-primeiro-jogo-de-50-pontos-na-nba\n"
   ]
  },
  {
   "cell_type": "code",
   "execution_count": 73,
   "metadata": {
    "execution": {
     "iopub.execute_input": "2024-02-17T15:30:06.321291Z",
     "iopub.status.busy": "2024-02-17T15:30:06.320862Z",
     "iopub.status.idle": "2024-02-17T15:30:06.353850Z",
     "shell.execute_reply": "2024-02-17T15:30:06.352412Z",
     "shell.execute_reply.started": "2024-02-17T15:30:06.321255Z"
    }
   },
   "outputs": [
    {
     "data": {
      "text/html": [
       "<div>\n",
       "<style scoped>\n",
       "    .dataframe tbody tr th:only-of-type {\n",
       "        vertical-align: middle;\n",
       "    }\n",
       "\n",
       "    .dataframe tbody tr th {\n",
       "        vertical-align: top;\n",
       "    }\n",
       "\n",
       "    .dataframe thead th {\n",
       "        text-align: right;\n",
       "    }\n",
       "</style>\n",
       "<table border=\"1\" class=\"dataframe\">\n",
       "  <thead>\n",
       "    <tr style=\"text-align: right;\">\n",
       "      <th></th>\n",
       "      <th>Season</th>\n",
       "      <th>Age</th>\n",
       "      <th>Tm</th>\n",
       "      <th>Lg</th>\n",
       "      <th>Pos</th>\n",
       "      <th>G</th>\n",
       "      <th>GS</th>\n",
       "      <th>MP</th>\n",
       "      <th>FG</th>\n",
       "      <th>FGA</th>\n",
       "      <th>...</th>\n",
       "      <th>FT%</th>\n",
       "      <th>ORB</th>\n",
       "      <th>TRB</th>\n",
       "      <th>AST</th>\n",
       "      <th>STL</th>\n",
       "      <th>BLK</th>\n",
       "      <th>TOV</th>\n",
       "      <th>PF</th>\n",
       "      <th>PTS</th>\n",
       "      <th>Player</th>\n",
       "    </tr>\n",
       "  </thead>\n",
       "  <tbody>\n",
       "    <tr>\n",
       "      <th>1</th>\n",
       "      <td>2005-06</td>\n",
       "      <td>21</td>\n",
       "      <td>CLE</td>\n",
       "      <td>NBA</td>\n",
       "      <td>SF</td>\n",
       "      <td>1.0</td>\n",
       "      <td>1.0</td>\n",
       "      <td>30:34</td>\n",
       "      <td>12.0</td>\n",
       "      <td>21.0</td>\n",
       "      <td>...</td>\n",
       "      <td>0.2</td>\n",
       "      <td>2.0</td>\n",
       "      <td>6.0</td>\n",
       "      <td>2.0</td>\n",
       "      <td>2.0</td>\n",
       "      <td>0.0</td>\n",
       "      <td>1.0</td>\n",
       "      <td>2.0</td>\n",
       "      <td>29.0</td>\n",
       "      <td>Lebron James</td>\n",
       "    </tr>\n",
       "  </tbody>\n",
       "</table>\n",
       "<p>1 rows × 26 columns</p>\n",
       "</div>"
      ],
      "text/plain": [
       "    Season  Age   Tm   Lg Pos    G   GS     MP    FG   FGA  ...  FT%  ORB  \\\n",
       "1  2005-06   21  CLE  NBA  SF  1.0  1.0  30:34  12.0  21.0  ...  0.2  2.0   \n",
       "\n",
       "   TRB  AST  STL  BLK  TOV   PF   PTS        Player  \n",
       "1  6.0  2.0  2.0  0.0  1.0  2.0  29.0  Lebron James  \n",
       "\n",
       "[1 rows x 26 columns]"
      ]
     },
     "execution_count": 73,
     "metadata": {},
     "output_type": "execute_result"
    }
   ],
   "source": [
    "# This player's second year (Lebron James)\n",
    "allstar.query(\"Player == 'Lebron James' and Age == 21\")\n"
   ]
  },
  {
   "cell_type": "markdown",
   "metadata": {},
   "source": [
    "# 6) Curiosidades / Dados relevantes\n",
    "\n",
    "# Curiosities / Relevant data\n",
    "\n"
   ]
  },
  {
   "cell_type": "markdown",
   "metadata": {},
   "source": [
    "# Conforme análise dos 10 maiores pontuadores por década (período disponível nesta base de dados 1947 a 1949)\n",
    "\n",
    "\n",
    "### Primeiro ano de sua temporada já estando entre os 10 maiores pontuadores deste período.\n",
    "\n",
    "\n",
    "###  No segundo ano de Liga, também foi um dos maiores pontuador deste período \n",
    "\n",
    "![George Mikan](https://jumperbrasil.lance.com.br/wp-content/uploads/2022/03/George-Mikan.jpg)\n",
    "\n",
    "\n",
    "\n",
    "-------------- experience - 1 ------------------\n",
    "\n",
    "age - 24\n",
    "\n",
    "player -  30661\n",
    "\n",
    "season - 1960\n",
    "\n",
    "pos - C\n",
    "\n",
    "tm  - Minneapolis Lakers   \n",
    "\n",
    "pts_per_game - 28.3\n",
    "\n",
    "\n",
    "-------------- experience - 2 ------------------\n",
    "\n",
    "age - 25\n",
    "\n",
    "player - 30379 \n",
    "\n",
    "season - 1950\n",
    "\n",
    "pos - C\n",
    "\n",
    "tm  - Minneapolis Lakers  \n",
    "\n",
    "pts_per_game - 27.4\n",
    "\n",
    "\n",
    "\n",
    "Fonte: https://jumperbrasil.lance.com.br/lenda-nba-george-mikan-camisa-aposentada-lakers/\n"
   ]
  },
  {
   "cell_type": "markdown",
   "metadata": {},
   "source": [
    "# Conforme análise dos 10 maiores pontuadores por década (período disponível nesta base de dados 1947 a 1949)\n",
    "\n",
    "\n",
    "### Primeiro ano de sua temporada já estando entre os 10 maiores pontuadores deste período.\n",
    "\n",
    "\n",
    "###  No segundo ano de Liga, também foi um dos maiores pontuador deste período \n",
    "\n",
    "![Ed Sadowski](https://celticswire.usatoday.com/wp-content/uploads/sites/39/2021/05/Ed-Macauley-Celtics-011552.jpg?resize=1000,600)\n",
    "\n",
    "\n",
    "-------------- experience - 1 ------------------\n",
    "\n",
    "age - 29\n",
    "\n",
    "player -  30661\n",
    "\n",
    "season - 1947\n",
    "\n",
    "pos - C\n",
    "\n",
    "tm  - Boston Celtics \n",
    "\n",
    "pts_per_game - 19.1\n",
    "\n",
    "\n",
    "\n",
    "-------------- experience - 2 ------------------\n",
    "\n",
    "age - 29\n",
    "\n",
    "player -  30841\n",
    "\n",
    "season - 1948\n",
    "\n",
    "pos - C\n",
    "\n",
    "tm  - Boston Celtics \n",
    "\n",
    "pts_per_game - 19.4\n",
    "\n",
    "\n",
    "Fonte: https://celticswire.usatoday.com/tag/ed-sadowski/\n"
   ]
  },
  {
   "cell_type": "markdown",
   "metadata": {},
   "source": [
    "# Conforme análise dos 10 maiores pontuadores por década \n",
    "\n",
    "\n",
    "### Primeiro ano de sua temporada, já estando entre os 10 maiores pontuadores deste período (1950 a 1959).\n",
    "\n",
    "experience: 1\n",
    "\n",
    "age: 23\n",
    "\n",
    "player:  29044 \n",
    "\n",
    "season: 1960\n",
    "\n",
    "pos: C\n",
    "\n",
    "tm  - Philadelphia 76 ers\n",
    "\n",
    "pts_per_game - 37.6\n",
    "\n",
    "\n",
    "###  No segundo ano de Liga, também foi um dos maiores pontuador deste período \n",
    "\n",
    "season: 1961, age: 24, experience: 2, tm:PHW,pts_per_game: 38.4\n",
    "\n",
    "\n",
    "\n",
    "### Ocupa 4 posições de maior pontuador no período (1960 a 1959).\n",
    "\n",
    "season: 1962, age: 25, experience: 3, tm:PHW,  pts_per_game:50.4\n",
    "\n",
    "season: 1963, age: 26, experience: 4, tm:SFW, pts_per_game:44.8\n",
    "\n",
    "season: 1965, age: 28, experience: 6, tm:SFW, pts_per_game: 38.9\n",
    "\n",
    "season: 1961, age: 24, experience: 2, tm:PHW,pts_per_game: 38.4\n",
    "\n",
    "\n",
    "\n",
    "###  Na lista de maiores pontuadores acima de 35 pontos de todos os tempos, ocupa a 1ª a 4ª posição\n",
    "\n",
    "season: 1962, age: 25, experience: 3, tm:PHW,  pts_per_game:50.4\n",
    "\n",
    "season: 1963, age: 26, experience: 4, tm:SFW, pts_per_game:44.8\n",
    "\n",
    "season: 1965, age: 28, experience: 6, tm:SFW, pts_per_game: 38.9\n",
    "\n",
    "season: 1961, age: 24, experience: 2, tm:PHW,pts_per_game: 38.4\n",
    "\n",
    "\n",
    "![ Wilt Chamberlain](https://d1l5jyrrh5eluf.cloudfront.net/wp-content/uploads/2018/05/wilt.jpg)\n",
    "\n",
    "\n",
    "\n",
    "Fonte: https://www.bing.com/images/search?view=detailV2&ccid=mg7T6wpp&id=3BE429401E3324F6000D6CD76885722AF8F5BDA7&thid=OIP.mg7T6wpp2DKeBLjX52foSQHaLH&mediaurl=https%3a%2f%2fd1l5jyrrh5eluf.cloudfront.net%2fwp-content%2fuploads%2f2018%2f05%2fwilt.jpg&cdnurl=https%3a%2f%2fth.bing.com%2fth%2fid%2fR.9a0ed3eb0a69d8329e04b8d7e767e849%3frik%3dp731%252bCpyhWjXbA%26pid%3dImgRaw%26r%3d0&exph=1028&expw=685&q=wilt+chamberlain&simid=607994952607036256&FORM=IRPRST&ck=038358BE4CA406CBADA5C10B8E8E7E41&selectedIndex=16&itb=0"
   ]
  },
  {
   "cell_type": "code",
   "execution_count": null,
   "metadata": {},
   "outputs": [],
   "source": []
  }
 ],
 "metadata": {
  "kaggle": {
   "accelerator": "none",
   "dataSources": [
    {
     "databundleVersionId": 6236734,
     "datasetId": 3532402,
     "sourceId": 6157777,
     "sourceType": "datasetVersion"
    },
    {
     "databundleVersionId": 6236782,
     "datasetId": 3532436,
     "sourceId": 6157824,
     "sourceType": "datasetVersion"
    },
    {
     "databundleVersionId": 7734247,
     "datasetId": 1177523,
     "sourceId": 7637855,
     "sourceType": "datasetVersion"
    }
   ],
   "dockerImageVersionId": 30513,
   "isGpuEnabled": false,
   "isInternetEnabled": true,
   "language": "python",
   "sourceType": "notebook"
  },
  "kernelspec": {
   "display_name": "Python 3 (ipykernel)",
   "language": "python",
   "name": "python3"
  },
  "language_info": {
   "codemirror_mode": {
    "name": "ipython",
    "version": 3
   },
   "file_extension": ".py",
   "mimetype": "text/x-python",
   "name": "python",
   "nbconvert_exporter": "python",
   "pygments_lexer": "ipython3",
   "version": "3.11.3"
  }
 },
 "nbformat": 4,
 "nbformat_minor": 4
}
